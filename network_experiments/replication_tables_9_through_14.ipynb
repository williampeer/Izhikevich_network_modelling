{
 "cells": [
  {
   "cell_type": "code",
   "execution_count": null,
   "metadata": {},
   "outputs": [],
   "source": [
    "%run ./../network_util_unitless_replicated_perturbation_method.ipynb\n",
    "%load_ext memory_profiler"
   ]
  },
  {
   "cell_type": "code",
   "execution_count": null,
   "metadata": {},
   "outputs": [],
   "source": [
    "tau_g=5.0*ms;"
   ]
  },
  {
   "cell_type": "code",
   "execution_count": null,
   "metadata": {
    "scrolled": false
   },
   "outputs": [],
   "source": [
    "# table 9 - FD did not predict freq.: - lower, stabler rates, more slowly increasing due to v. low a ?\n",
    "log_postfix = 'table_9'\n",
    "%time %memit avg_network_firing_rate_over_N_runs(a=0.0050, b=0.3850, ws=11, tau_g=tau_g, log_fname_postfix=log_postfix)\n",
    "%time %memit avg_network_firing_rate_over_N_runs(a=0.0050, b=0.4200, ws=11, tau_g=tau_g, log_fname_postfix=log_postfix)\n",
    "%time %memit avg_network_firing_rate_over_N_runs(a=0.0050, b=0.4550, ws=11, tau_g=tau_g, log_fname_postfix=log_postfix)"
   ]
  },
  {
   "cell_type": "code",
   "execution_count": null,
   "metadata": {
    "scrolled": false
   },
   "outputs": [],
   "source": [
    "# table 10 - FD did not predict rates: - b too low ?\n",
    "log_postfix = 'table_10'\n",
    "%time %memit avg_network_firing_rate_over_N_runs(a=0.02, b=0.07, ws=18, tau_g=tau_g, log_fname_postfix=log_postfix)\n",
    "%time %memit avg_network_firing_rate_over_N_runs(a=0.0225, b=0.07, ws=18, tau_g=tau_g, log_fname_postfix=log_postfix)\n",
    "%time %memit avg_network_firing_rate_over_N_runs(a=0.025, b=0.07, ws=18, tau_g=tau_g, log_fname_postfix=log_postfix)"
   ]
  },
  {
   "cell_type": "code",
   "execution_count": null,
   "metadata": {
    "scrolled": false
   },
   "outputs": [],
   "source": [
    "# table 11:\n",
    "log_postfix = 'table_11'\n",
    "%time %memit avg_network_firing_rate_over_N_runs(a=0.0075, b=0.3150, ws=11, tau_g=tau_g, log_fname_postfix=log_postfix)\n",
    "%time %memit avg_network_firing_rate_over_N_runs(a=0.01, b=0.21, ws=11, tau_g=tau_g, log_fname_postfix=log_postfix)\n",
    "%time %memit avg_network_firing_rate_over_N_runs(a=0.0125, b=0.175, ws=11, tau_g=tau_g, log_fname_postfix=log_postfix)"
   ]
  },
  {
   "cell_type": "code",
   "execution_count": null,
   "metadata": {
    "scrolled": false
   },
   "outputs": [],
   "source": [
    "# table 12:\n",
    "log_postfix = 'table_12'\n",
    "%time %memit avg_network_firing_rate_over_N_runs(a=0.0225, b=0.665, ws=11, tau_g=tau_g, log_fname_postfix=log_postfix)\n",
    "%time %memit avg_network_firing_rate_over_N_runs(a=0.025, b=0.56, ws=11, tau_g=tau_g, log_fname_postfix=log_postfix)\n",
    "%time %memit avg_network_firing_rate_over_N_runs(a=0.0275, b=0.525, ws=11, tau_g=tau_g, log_fname_postfix=log_postfix)\n",
    "%time %memit avg_network_firing_rate_over_N_runs(a=0.03, b=0.49, ws=11, tau_g=tau_g, log_fname_postfix=log_postfix)\n",
    "%time %memit avg_network_firing_rate_over_N_runs(a=0.0375, b=0.385, ws=11, tau_g=tau_g, log_fname_postfix=log_postfix)\n",
    "%time %memit avg_network_firing_rate_over_N_runs(a=0.04, b=0.35, ws=11, tau_g=tau_g, log_fname_postfix=log_postfix)"
   ]
  },
  {
   "cell_type": "code",
   "execution_count": null,
   "metadata": {
    "scrolled": false
   },
   "outputs": [],
   "source": [
    "# table 13:\n",
    "log_postfix = 'table_13'\n",
    "%time %memit avg_network_firing_rate_over_N_runs(a=0.0275, b=0.490, ws=10, tau_g=tau_g, log_fname_postfix=log_postfix)\n",
    "%time %memit avg_network_firing_rate_over_N_runs(a=0.0275, b=0.665, ws=20, tau_g=tau_g, log_fname_postfix=log_postfix)"
   ]
  },
  {
   "cell_type": "code",
   "execution_count": null,
   "metadata": {
    "scrolled": false
   },
   "outputs": [],
   "source": [
    "# table 14:\n",
    "log_postfix = 'table_14'\n",
    "%time %memit avg_network_firing_rate_over_N_runs(a=0.05, b=0.665, ws=10, tau_g=tau_g, log_fname_postfix=log_postfix)\n",
    "%time %memit avg_network_firing_rate_over_N_runs(a=0.05, b=0.700, ws=11, tau_g=tau_g, log_fname_postfix=log_postfix)"
   ]
  }
 ],
 "metadata": {
  "kernelspec": {
   "display_name": "Python 3",
   "language": "python",
   "name": "python3"
  },
  "language_info": {
   "codemirror_mode": {
    "name": "ipython",
    "version": 3
   },
   "file_extension": ".py",
   "mimetype": "text/x-python",
   "name": "python",
   "nbconvert_exporter": "python",
   "pygments_lexer": "ipython3",
   "version": "3.6.7rc2"
  }
 },
 "nbformat": 4,
 "nbformat_minor": 2
}
