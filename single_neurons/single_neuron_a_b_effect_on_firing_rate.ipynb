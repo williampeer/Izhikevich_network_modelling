{
 "cells": [
  {
   "cell_type": "code",
   "execution_count": 1,
   "metadata": {},
   "outputs": [],
   "source": [
    "%run ./../single_neuron_util_unitless.ipynb"
   ]
  },
  {
   "cell_type": "code",
   "execution_count": 2,
   "metadata": {
    "scrolled": false
   },
   "outputs": [
    {
     "name": "stdout",
     "output_type": "stream",
     "text": [
      "a=0.02000, b=0.010, I_ext=0, firing rate: 0.00\n",
      "a=0.02000, b=0.010, I_ext=1, firing rate: 0.00\n",
      "a=0.02000, b=0.010, I_ext=-1, firing rate: 0.00\n",
      "a=0.02000, b=0.030, I_ext=0, firing rate: 0.00\n",
      "a=0.02000, b=0.030, I_ext=1, firing rate: 0.00\n",
      "a=0.02000, b=0.030, I_ext=-1, firing rate: 0.00\n",
      "a=0.02000, b=0.050, I_ext=0, firing rate: 0.00\n",
      "a=0.02000, b=0.050, I_ext=1, firing rate: 0.00\n",
      "a=0.02000, b=0.050, I_ext=-1, firing rate: 0.00\n",
      "a=0.02000, b=0.070, I_ext=0, firing rate: 0.00\n",
      "a=0.02000, b=0.070, I_ext=1, firing rate: 0.00\n",
      "a=0.02000, b=0.070, I_ext=-1, firing rate: 0.00\n",
      "a=0.02000, b=0.090, I_ext=0, firing rate: 0.00\n",
      "a=0.02000, b=0.090, I_ext=1, firing rate: 0.00\n",
      "a=0.02000, b=0.090, I_ext=-1, firing rate: 0.00\n",
      "a=0.02000, b=0.110, I_ext=0, firing rate: 0.00\n",
      "a=0.02000, b=0.110, I_ext=1, firing rate: 0.00\n",
      "a=0.02000, b=0.110, I_ext=-1, firing rate: 0.00\n",
      "a=0.02000, b=0.130, I_ext=0, firing rate: 0.00\n",
      "a=0.02000, b=0.130, I_ext=1, firing rate: 0.00\n",
      "a=0.02000, b=0.130, I_ext=-1, firing rate: 0.00\n",
      "a=0.02000, b=0.150, I_ext=0, firing rate: 0.00\n",
      "a=0.02000, b=0.150, I_ext=1, firing rate: 0.00\n",
      "a=0.02000, b=0.150, I_ext=-1, firing rate: 0.00\n",
      "a=0.02000, b=0.170, I_ext=0, firing rate: 0.00\n",
      "a=0.02000, b=0.170, I_ext=1, firing rate: 0.00\n",
      "a=0.02000, b=0.170, I_ext=-1, firing rate: 0.00\n",
      "a=0.02000, b=0.190, I_ext=0, firing rate: 0.00\n",
      "a=0.02000, b=0.190, I_ext=1, firing rate: 0.00\n",
      "a=0.02000, b=0.190, I_ext=-1, firing rate: 0.00\n",
      "a=0.02000, b=0.210, I_ext=0, firing rate: 0.00\n",
      "a=0.02000, b=0.210, I_ext=1, firing rate: 0.00\n",
      "a=0.02000, b=0.210, I_ext=-1, firing rate: 0.00\n",
      "a=0.02000, b=0.230, I_ext=0, firing rate: 0.00\n",
      "a=0.02000, b=0.230, I_ext=1, firing rate: 0.00\n",
      "a=0.02000, b=0.230, I_ext=-1, firing rate: 0.00\n",
      "a=0.02000, b=0.250, I_ext=0, firing rate: 0.00\n",
      "a=0.02000, b=0.250, I_ext=1, firing rate: 7.81\n",
      "a=0.02000, b=0.250, I_ext=-1, firing rate: 0.00\n",
      "a=0.02000, b=0.270, I_ext=0, firing rate: 7.81\n",
      "a=0.02000, b=0.270, I_ext=1, firing rate: 11.72\n",
      "a=0.02000, b=0.270, I_ext=-1, firing rate: 0.00\n",
      "a=0.02000, b=0.290, I_ext=0, firing rate: 11.72\n",
      "a=0.02000, b=0.290, I_ext=1, firing rate: 13.67\n",
      "a=0.02000, b=0.290, I_ext=-1, firing rate: 9.77\n",
      "a=0.02000, b=0.310, I_ext=0, firing rate: 15.62\n",
      "a=0.02000, b=0.310, I_ext=1, firing rate: 17.58\n",
      "a=0.02000, b=0.310, I_ext=-1, firing rate: 11.72\n",
      "a=0.02000, b=0.330, I_ext=0, firing rate: 17.58\n",
      "a=0.02000, b=0.330, I_ext=1, firing rate: 19.53\n",
      "a=0.02000, b=0.330, I_ext=-1, firing rate: 15.62\n",
      "a=0.02000, b=0.350, I_ext=0, firing rate: 21.48\n",
      "a=0.02000, b=0.350, I_ext=1, firing rate: 23.44\n",
      "a=0.02000, b=0.350, I_ext=-1, firing rate: 19.53\n",
      "a=0.02000, b=0.370, I_ext=0, firing rate: 23.44\n",
      "a=0.02000, b=0.370, I_ext=1, firing rate: 25.39\n",
      "a=0.02000, b=0.370, I_ext=-1, firing rate: 21.48\n",
      "a=0.02000, b=0.390, I_ext=0, firing rate: 25.39\n",
      "a=0.02000, b=0.390, I_ext=1, firing rate: 29.30\n",
      "a=0.02000, b=0.390, I_ext=-1, firing rate: 23.44\n",
      "a=0.02000, b=0.410, I_ext=0, firing rate: 29.30\n",
      "a=0.02000, b=0.410, I_ext=1, firing rate: 31.25\n",
      "a=0.02000, b=0.410, I_ext=-1, firing rate: 27.34\n",
      "a=0.02000, b=0.430, I_ext=0, firing rate: 31.25\n",
      "a=0.02000, b=0.430, I_ext=1, firing rate: 33.20\n",
      "a=0.02000, b=0.430, I_ext=-1, firing rate: 29.30\n",
      "a=0.02000, b=0.450, I_ext=0, firing rate: 35.16\n",
      "a=0.02000, b=0.450, I_ext=1, firing rate: 37.11\n",
      "a=0.02000, b=0.450, I_ext=-1, firing rate: 33.20\n",
      "a=0.02000, b=0.470, I_ext=0, firing rate: 37.11\n",
      "a=0.02000, b=0.470, I_ext=1, firing rate: 39.06\n",
      "a=0.02000, b=0.470, I_ext=-1, firing rate: 35.16\n",
      "a=0.02000, b=0.490, I_ext=0, firing rate: 39.06\n",
      "a=0.02000, b=0.490, I_ext=1, firing rate: 41.02\n",
      "a=0.02000, b=0.490, I_ext=-1, firing rate: 37.11\n",
      "a=0.00100, b=0.330, I_ext=0, firing rate: 0.00\n",
      "a=0.00100, b=0.330, I_ext=1, firing rate: 0.00\n",
      "a=0.00100, b=0.330, I_ext=-1, firing rate: 0.00\n",
      "a=0.00300, b=0.330, I_ext=0, firing rate: 1.95\n",
      "a=0.00300, b=0.330, I_ext=1, firing rate: 1.95\n",
      "a=0.00300, b=0.330, I_ext=-1, firing rate: 0.00\n",
      "a=0.00500, b=0.330, I_ext=0, firing rate: 3.91\n",
      "a=0.00500, b=0.330, I_ext=1, firing rate: 3.91\n",
      "a=0.00500, b=0.330, I_ext=-1, firing rate: 1.95\n",
      "a=0.00700, b=0.330, I_ext=0, firing rate: 5.86\n",
      "a=0.00700, b=0.330, I_ext=1, firing rate: 5.86\n",
      "a=0.00700, b=0.330, I_ext=-1, firing rate: 3.91\n",
      "a=0.00900, b=0.330, I_ext=0, firing rate: 7.81\n",
      "a=0.00900, b=0.330, I_ext=1, firing rate: 9.77\n",
      "a=0.00900, b=0.330, I_ext=-1, firing rate: 5.86\n",
      "a=0.01100, b=0.330, I_ext=0, firing rate: 9.77\n",
      "a=0.01100, b=0.330, I_ext=1, firing rate: 11.72\n",
      "a=0.01100, b=0.330, I_ext=-1, firing rate: 7.81\n",
      "a=0.01300, b=0.330, I_ext=0, firing rate: 11.72\n",
      "a=0.01300, b=0.330, I_ext=1, firing rate: 13.67\n",
      "a=0.01300, b=0.330, I_ext=-1, firing rate: 9.77\n",
      "a=0.01500, b=0.330, I_ext=0, firing rate: 13.67\n",
      "a=0.01500, b=0.330, I_ext=1, firing rate: 15.62\n",
      "a=0.01500, b=0.330, I_ext=-1, firing rate: 11.72\n",
      "a=0.01700, b=0.330, I_ext=0, firing rate: 15.62\n",
      "a=0.01700, b=0.330, I_ext=1, firing rate: 17.58\n",
      "a=0.01700, b=0.330, I_ext=-1, firing rate: 13.67\n",
      "a=0.01900, b=0.330, I_ext=0, firing rate: 17.58\n",
      "a=0.01900, b=0.330, I_ext=1, firing rate: 19.53\n",
      "a=0.01900, b=0.330, I_ext=-1, firing rate: 15.62\n",
      "a=0.02100, b=0.330, I_ext=0, firing rate: 19.53\n",
      "a=0.02100, b=0.330, I_ext=1, firing rate: 21.48\n",
      "a=0.02100, b=0.330, I_ext=-1, firing rate: 15.62\n",
      "a=0.02300, b=0.330, I_ext=0, firing rate: 19.53\n",
      "a=0.02300, b=0.330, I_ext=1, firing rate: 23.44\n",
      "a=0.02300, b=0.330, I_ext=-1, firing rate: 17.58\n",
      "a=0.02500, b=0.330, I_ext=0, firing rate: 21.48\n",
      "a=0.02500, b=0.330, I_ext=1, firing rate: 25.39\n",
      "a=0.02500, b=0.330, I_ext=-1, firing rate: 19.53\n",
      "a=0.02700, b=0.330, I_ext=0, firing rate: 23.44\n",
      "a=0.02700, b=0.330, I_ext=1, firing rate: 25.39\n",
      "a=0.02700, b=0.330, I_ext=-1, firing rate: 21.48\n",
      "a=0.02900, b=0.330, I_ext=0, firing rate: 25.39\n",
      "a=0.02900, b=0.330, I_ext=1, firing rate: 27.34\n",
      "a=0.02900, b=0.330, I_ext=-1, firing rate: 21.48\n",
      "a=0.03100, b=0.330, I_ext=0, firing rate: 27.34\n",
      "a=0.03100, b=0.330, I_ext=1, firing rate: 29.30\n",
      "a=0.03100, b=0.330, I_ext=-1, firing rate: 23.44\n",
      "a=0.03300, b=0.330, I_ext=0, firing rate: 27.34\n",
      "a=0.03300, b=0.330, I_ext=1, firing rate: 31.25\n",
      "a=0.03300, b=0.330, I_ext=-1, firing rate: 25.39\n",
      "a=0.03500, b=0.330, I_ext=0, firing rate: 29.30\n",
      "a=0.03500, b=0.330, I_ext=1, firing rate: 33.20\n",
      "a=0.03500, b=0.330, I_ext=-1, firing rate: 25.39\n",
      "a=0.03700, b=0.330, I_ext=0, firing rate: 31.25\n",
      "a=0.03700, b=0.330, I_ext=1, firing rate: 33.20\n",
      "a=0.03700, b=0.330, I_ext=-1, firing rate: 27.34\n",
      "a=0.03900, b=0.330, I_ext=0, firing rate: 31.25\n",
      "a=0.03900, b=0.330, I_ext=1, firing rate: 35.16\n",
      "a=0.03900, b=0.330, I_ext=-1, firing rate: 27.34\n",
      "a=0.04100, b=0.330, I_ext=0, firing rate: 33.20\n",
      "a=0.04100, b=0.330, I_ext=1, firing rate: 37.11\n",
      "a=0.04100, b=0.330, I_ext=-1, firing rate: 29.30\n",
      "a=0.04300, b=0.330, I_ext=0, firing rate: 35.16\n",
      "a=0.04300, b=0.330, I_ext=1, firing rate: 39.06\n",
      "a=0.04300, b=0.330, I_ext=-1, firing rate: 31.25\n",
      "a=0.04500, b=0.330, I_ext=0, firing rate: 35.16\n",
      "a=0.04500, b=0.330, I_ext=1, firing rate: 39.06\n",
      "a=0.04500, b=0.330, I_ext=-1, firing rate: 31.25\n",
      "a=0.04700, b=0.330, I_ext=0, firing rate: 37.11\n",
      "a=0.04700, b=0.330, I_ext=1, firing rate: 41.02\n",
      "a=0.04700, b=0.330, I_ext=-1, firing rate: 33.20\n",
      "a=0.04900, b=0.330, I_ext=0, firing rate: 37.11\n",
      "a=0.04900, b=0.330, I_ext=1, firing rate: 42.97\n",
      "a=0.04900, b=0.330, I_ext=-1, firing rate: 33.20\n",
      "a=0.05100, b=0.330, I_ext=0, firing rate: 39.06\n",
      "a=0.05100, b=0.330, I_ext=1, firing rate: 42.97\n",
      "a=0.05100, b=0.330, I_ext=-1, firing rate: 35.16\n"
     ]
    }
   ],
   "source": [
    "firing_rate_no_stimulus_b = []\n",
    "firing_rate_slight_stimulus_b = []\n",
    "firing_rate_negative_stimulus_b = []\n",
    "b_vals = []\n",
    "a_const = 0.02\n",
    "b = 0.01\n",
    "delta_b = 0.02\n",
    "for t in range(0, 25):\n",
    "    cur_rate_no_stim = perform_single_neuron_test(a_const, b, I_ext=0, do_plot=False, print_info=True)\n",
    "    cur_rate_with_stim = perform_single_neuron_test(a_const, b, I_ext=1, do_plot=False, print_info=True)\n",
    "    cur_rate_neg_stim = perform_single_neuron_test(a_const, b, I_ext=-1, do_plot=False, print_info=True)\n",
    "    \n",
    "    firing_rate_no_stimulus_b += [cur_rate_no_stim]\n",
    "    firing_rate_slight_stimulus_b += [cur_rate_with_stim]\n",
    "    firing_rate_negative_stimulus_b += [cur_rate_neg_stim]\n",
    "    \n",
    "    b_vals += [b]\n",
    "    b += delta_b\n",
    "    \n",
    "firing_rate_no_stimulus_a = []\n",
    "firing_rate_slight_stimulus_a = []\n",
    "firing_rate_negative_stimulus_a = []\n",
    "a_vals = []\n",
    "a = 0.001\n",
    "b_const = 0.33\n",
    "delta_a = 0.002\n",
    "for t in range(0, 26):\n",
    "    cur_rate_no_stim = perform_single_neuron_test(a, b_const, I_ext=0, do_plot=False, print_info=True)\n",
    "    cur_rate_with_stim = perform_single_neuron_test(a, b_const, I_ext=1, do_plot=False, print_info=True)\n",
    "    cur_rate_neg_stim = perform_single_neuron_test(a, b_const, I_ext=-1, do_plot=False, print_info=True)\n",
    "    \n",
    "    firing_rate_no_stimulus_a += [cur_rate_no_stim]\n",
    "    firing_rate_slight_stimulus_a += [cur_rate_with_stim]\n",
    "    firing_rate_negative_stimulus_a += [cur_rate_neg_stim]\n",
    "    \n",
    "    a_vals += [a]\n",
    "    a += delta_a"
   ]
  },
  {
   "cell_type": "code",
   "execution_count": 4,
   "metadata": {},
   "outputs": [
    {
     "data": {
      "image/png": "[encoded data removed]",
      "text/plain": [
       "<Figure size 648x288 with 2 Axes>"
      ]
     },
     "metadata": {
      "needs_background": "light"
     },
     "output_type": "display_data"
    }
   ],
   "source": [
    "fig = figure(figsize=(9, 4))\n",
    "(ax1, ax2) = fig.subplots(1, 2, sharey=True)\n",
    "ax1.set_ylabel('Firing rate')\n",
    "ax1.set_xlabel('$b$-value, $a='+\"{:5.4f}\".format(a_const)+'$')\n",
    "ax2.set_xlabel('$a$-value, $b='+\"{:4.3f}\".format(b_const)+'$')\n",
    "ax1.grid(True)\n",
    "ax2.grid(True)\n",
    "\n",
    "ax1.plot(b_vals, firing_rate_no_stimulus_b, 'b-s')\n",
    "ax1.plot(b_vals, firing_rate_slight_stimulus_b, 'c-*')\n",
    "ax1.plot(b_vals, firing_rate_negative_stimulus_b, 'g-o')\n",
    "ax2.plot(a_vals, firing_rate_no_stimulus_a, 'r-s')\n",
    "ax2.plot(a_vals, firing_rate_slight_stimulus_a, 'm-*')\n",
    "ax2.plot(a_vals, firing_rate_negative_stimulus_a, 'k-o')\n",
    "ax1.legend(['No input current', 'Stimulus; 1 uA', 'Stimulus; -1 uA'])\n",
    "ax2.legend(['No input current', 'Stimulus; 1 uA', 'Stimulus; -1 uA'])\n",
    "fig.suptitle('Parameter effect on subthreshold firing rate');"
   ]
  },
  {
   "cell_type": "code",
   "execution_count": 5,
   "metadata": {},
   "outputs": [
    {
     "data": {
      "image/png": "[encoded data removed]",
      "text/plain": [
       "<Figure size 648x288 with 1 Axes>"
      ]
     },
     "metadata": {
      "needs_background": "light"
     },
     "output_type": "display_data"
    }
   ],
   "source": [
    "figure(figsize=(9, 4))\n",
    "ylabel('Firing rate ($Hz$)')\n",
    "xlabel('$b$-value, ($a='+\"{:3.2f}\".format(a_const)+')$')\n",
    "grid(True)\n",
    "\n",
    "plot(b_vals, firing_rate_no_stimulus_b, 'b--*')\n",
    "plot(b_vals, firing_rate_slight_stimulus_b, 'c-*')\n",
    "plot(b_vals, firing_rate_negative_stimulus_b, 'g-o')\n",
    "legend(['No input current', 'Stimulus; 100 uA', 'Stimulus; -100 uA'])\n",
    "title('Parameter effect on single neuron subthreshold firing');"
   ]
  },
  {
   "cell_type": "code",
   "execution_count": 6,
   "metadata": {},
   "outputs": [],
   "source": [
    "# ---------------------- CONSTANT FIRING RATE -----------------------"
   ]
  },
  {
   "cell_type": "code",
   "execution_count": 7,
   "metadata": {},
   "outputs": [],
   "source": [
    "timesteps = 9000"
   ]
  },
  {
   "cell_type": "code",
   "execution_count": 8,
   "metadata": {},
   "outputs": [
    {
     "name": "stdout",
     "output_type": "stream",
     "text": [
      "a=0.01355, b=0.600, I_ext=0, firing rate: 39.89\n",
      "a=0.01480, b=0.570, I_ext=0, firing rate: 39.78\n",
      "a=0.01620, b=0.540, I_ext=0, firing rate: 39.89\n",
      "a=0.01800, b=0.510, I_ext=0, firing rate: 39.89\n",
      "a=0.02020, b=0.480, I_ext=0, firing rate: 39.89\n",
      "a=0.02310, b=0.450, I_ext=0, firing rate: 40.11\n",
      "a=0.02680, b=0.420, I_ext=0, firing rate: 39.89\n",
      "a=0.03200, b=0.390, I_ext=0, firing rate: 40.00\n",
      "a=0.03960, b=0.360, I_ext=0, firing rate: 40.00\n",
      "a=0.05200, b=0.330, I_ext=0, firing rate: 40.00\n",
      "a=0.07670, b=0.300, I_ext=0, firing rate: 40.00\n",
      "a=0.18800, b=0.270, I_ext=0, firing rate: 40.00\n"
     ]
    },
    {
     "data": {
      "text/latex": [
       "$40.0\\,\\mathrm{Hz}$"
      ],
      "text/plain": [
       "40. * hertz"
      ]
     },
     "execution_count": 8,
     "metadata": {},
     "output_type": "execute_result"
    }
   ],
   "source": [
    "# extended test for a vs b constant rate:\n",
    "perform_single_neuron_test(a=0.01355, b=0.60, do_plot=False, timesteps=timesteps)\n",
    "perform_single_neuron_test(a=0.0148, b=0.57, do_plot=False, timesteps=timesteps)\n",
    "perform_single_neuron_test(a=0.0162, b=0.54, do_plot=False, timesteps=timesteps)\n",
    "perform_single_neuron_test(a=0.018, b=0.51, do_plot=False, timesteps=timesteps)\n",
    "perform_single_neuron_test(a=0.0202, b=0.48, do_plot=False, timesteps=timesteps)\n",
    "perform_single_neuron_test(a=0.0231, b=0.45, do_plot=False, timesteps=timesteps)\n",
    "perform_single_neuron_test(a=0.0268, b=0.42, do_plot=False, timesteps=timesteps)\n",
    "perform_single_neuron_test(a=0.032, b=0.39, do_plot=False, timesteps=timesteps)\n",
    "perform_single_neuron_test(a=0.0396, b=0.36, do_plot=False, timesteps=timesteps)\n",
    "perform_single_neuron_test(a=0.052, b=0.33, do_plot=False, timesteps=timesteps)\n",
    "perform_single_neuron_test(a=0.0767, b=0.30, do_plot=False, timesteps=timesteps)\n",
    "perform_single_neuron_test(a=0.188, b=0.27, do_plot=False, timesteps=timesteps)"
   ]
  },
  {
   "cell_type": "code",
   "execution_count": 9,
   "metadata": {
    "scrolled": true
   },
   "outputs": [
    {
     "name": "stdout",
     "output_type": "stream",
     "text": [
      "a=0.00612, b=0.600, I_ext=0, firing rate: 19.89\n",
      "a=0.00662, b=0.570, I_ext=0, firing rate: 19.78\n",
      "a=0.00723, b=0.540, I_ext=0, firing rate: 19.78\n",
      "a=0.00795, b=0.510, I_ext=0, firing rate: 19.78\n",
      "a=0.00885, b=0.480, I_ext=0, firing rate: 19.78\n",
      "a=0.01010, b=0.450, I_ext=0, firing rate: 20.00\n",
      "a=0.01160, b=0.420, I_ext=0, firing rate: 20.00\n",
      "a=0.01350, b=0.390, I_ext=0, firing rate: 19.89\n",
      "a=0.01640, b=0.360, I_ext=0, firing rate: 20.00\n",
      "a=0.02080, b=0.330, I_ext=0, firing rate: 20.00\n",
      "a=0.02890, b=0.300, I_ext=0, firing rate: 19.89\n",
      "a=0.05380, b=0.270, I_ext=0, firing rate: 20.00\n"
     ]
    },
    {
     "data": {
      "text/latex": [
       "$20.0\\,\\mathrm{Hz}$"
      ],
      "text/plain": [
       "20. * hertz"
      ]
     },
     "execution_count": 9,
     "metadata": {},
     "output_type": "execute_result"
    }
   ],
   "source": [
    "# extended test for a vs b constant rate:\n",
    "perform_single_neuron_test(a=0.00612, b=0.60, do_plot=False, timesteps=timesteps)\n",
    "perform_single_neuron_test(a=0.00662, b=0.57, do_plot=False, timesteps=timesteps)\n",
    "perform_single_neuron_test(a=0.00723, b=0.54, do_plot=False, timesteps=timesteps)\n",
    "perform_single_neuron_test(a=0.00795, b=0.51, do_plot=False, timesteps=timesteps)\n",
    "perform_single_neuron_test(a=0.00885, b=0.48, do_plot=False, timesteps=timesteps)\n",
    "perform_single_neuron_test(a=0.0101, b=0.45, do_plot=False, timesteps=timesteps)\n",
    "perform_single_neuron_test(a=0.0116, b=0.42, do_plot=False, timesteps=timesteps)\n",
    "perform_single_neuron_test(a=0.0135, b=0.39, do_plot=False, timesteps=timesteps)\n",
    "perform_single_neuron_test(a=0.0164, b=0.36, do_plot=False, timesteps=timesteps)\n",
    "perform_single_neuron_test(a=0.0208, b=0.33, do_plot=False, timesteps=timesteps)\n",
    "perform_single_neuron_test(a=0.0289, b=0.30, do_plot=False, timesteps=timesteps)\n",
    "perform_single_neuron_test(a=0.0538, b=0.27, do_plot=False, timesteps=timesteps)"
   ]
  },
  {
   "cell_type": "code",
   "execution_count": 10,
   "metadata": {
    "scrolled": false
   },
   "outputs": [
    {
     "name": "stdout",
     "output_type": "stream",
     "text": [
      "a=0.00285, b=0.600, I_ext=0, firing rate: 9.67\n",
      "a=0.00310, b=0.570, I_ext=0, firing rate: 9.78\n",
      "a=0.00337, b=0.540, I_ext=0, firing rate: 9.78\n",
      "a=0.00374, b=0.510, I_ext=0, firing rate: 9.89\n",
      "a=0.00414, b=0.480, I_ext=0, firing rate: 9.89\n",
      "a=0.00464, b=0.450, I_ext=0, firing rate: 9.89\n",
      "a=0.00534, b=0.420, I_ext=0, firing rate: 10.00\n",
      "a=0.00624, b=0.390, I_ext=0, firing rate: 10.00\n",
      "a=0.00745, b=0.360, I_ext=0, firing rate: 10.00\n",
      "a=0.00930, b=0.330, I_ext=0, firing rate: 10.00\n",
      "a=0.01260, b=0.300, I_ext=0, firing rate: 10.00\n",
      "a=0.02140, b=0.270, I_ext=0, firing rate: 9.89\n"
     ]
    },
    {
     "data": {
      "text/latex": [
       "$9.88888888888889\\,\\mathrm{Hz}$"
      ],
      "text/plain": [
       "9.88888889 * hertz"
      ]
     },
     "execution_count": 10,
     "metadata": {},
     "output_type": "execute_result"
    }
   ],
   "source": [
    "# extended test for a vs b constant rate:\n",
    "perform_single_neuron_test(a=0.00285, b=0.60, do_plot=False, timesteps=timesteps)\n",
    "perform_single_neuron_test(a=0.00310, b=0.57, do_plot=False, timesteps=timesteps)\n",
    "perform_single_neuron_test(a=0.00337, b=0.54, do_plot=False, timesteps=timesteps)\n",
    "perform_single_neuron_test(a=0.00374, b=0.51, do_plot=False, timesteps=timesteps)\n",
    "perform_single_neuron_test(a=0.00414, b=0.48, do_plot=False, timesteps=timesteps)\n",
    "perform_single_neuron_test(a=0.00464, b=0.45, do_plot=False, timesteps=timesteps)\n",
    "perform_single_neuron_test(a=0.00534, b=0.42, do_plot=False, timesteps=timesteps)\n",
    "perform_single_neuron_test(a=0.00624, b=0.39, do_plot=False, timesteps=timesteps)\n",
    "perform_single_neuron_test(a=0.00745, b=0.36, do_plot=False, timesteps=timesteps)\n",
    "perform_single_neuron_test(a=0.0093, b=0.33, do_plot=False, timesteps=timesteps)\n",
    "perform_single_neuron_test(a=0.0126, b=0.30, do_plot=False, timesteps=timesteps)\n",
    "perform_single_neuron_test(a=0.0214, b=0.27, do_plot=False, timesteps=timesteps)"
   ]
  },
  {
   "cell_type": "code",
   "execution_count": 11,
   "metadata": {
    "scrolled": false
   },
   "outputs": [
    {
     "name": "stdout",
     "output_type": "stream",
     "text": [
      "a=0.00140, b=0.600, I_ext=0, firing rate: 4.78\n",
      "a=0.00154, b=0.570, I_ext=0, firing rate: 4.89\n",
      "a=0.00167, b=0.540, I_ext=0, firing rate: 4.89\n",
      "a=0.00182, b=0.510, I_ext=0, firing rate: 4.89\n",
      "a=0.00200, b=0.480, I_ext=0, firing rate: 4.89\n",
      "a=0.00220, b=0.450, I_ext=0, firing rate: 4.78\n",
      "a=0.00250, b=0.420, I_ext=0, firing rate: 4.78\n",
      "a=0.00290, b=0.390, I_ext=0, firing rate: 4.78\n",
      "a=0.00350, b=0.360, I_ext=0, firing rate: 4.89\n",
      "a=0.00430, b=0.330, I_ext=0, firing rate: 4.89\n",
      "a=0.00575, b=0.300, I_ext=0, firing rate: 4.89\n",
      "a=0.00970, b=0.270, I_ext=0, firing rate: 5.00\n"
     ]
    },
    {
     "data": {
      "text/latex": [
       "$5.0\\,\\mathrm{Hz}$"
      ],
      "text/plain": [
       "5. * hertz"
      ]
     },
     "execution_count": 11,
     "metadata": {},
     "output_type": "execute_result"
    }
   ],
   "source": [
    "# extended test for a vs b constant rate:\n",
    "perform_single_neuron_test(a=0.0014, b=0.60, do_plot=False, timesteps=timesteps)\n",
    "perform_single_neuron_test(a=0.00154, b=0.57, do_plot=False, timesteps=timesteps)\n",
    "perform_single_neuron_test(a=0.00167, b=0.54, do_plot=False, timesteps=timesteps)\n",
    "perform_single_neuron_test(a=0.00182, b=0.51, do_plot=False, timesteps=timesteps)\n",
    "perform_single_neuron_test(a=0.002, b=0.48, do_plot=False, timesteps=timesteps)\n",
    "perform_single_neuron_test(a=0.0022, b=0.45, do_plot=False, timesteps=timesteps)\n",
    "perform_single_neuron_test(a=0.0025, b=0.42, do_plot=False, timesteps=timesteps)\n",
    "perform_single_neuron_test(a=0.0029, b=0.39, do_plot=False, timesteps=timesteps)\n",
    "perform_single_neuron_test(a=0.0035, b=0.36, do_plot=False, timesteps=timesteps)\n",
    "perform_single_neuron_test(a=0.0043, b=0.33, do_plot=False, timesteps=timesteps)\n",
    "perform_single_neuron_test(a=0.00575, b=0.30, do_plot=False, timesteps=timesteps)\n",
    "perform_single_neuron_test(a=0.0097, b=0.27, do_plot=False, timesteps=timesteps)"
   ]
  }
 ],
 "metadata": {
  "kernelspec": {
   "display_name": "Python 3",
   "language": "python",
   "name": "python3"
  },
  "language_info": {
   "codemirror_mode": {
    "name": "ipython",
    "version": 3
   },
   "file_extension": ".py",
   "mimetype": "text/x-python",
   "name": "python",
   "nbconvert_exporter": "python",
   "pygments_lexer": "ipython3",
   "version": "3.6.7rc2"
  }
 },
 "nbformat": 4,
 "nbformat_minor": 2
}
